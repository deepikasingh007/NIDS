{
 "cells": [
  {
   "cell_type": "markdown",
   "metadata": {
    "id": "MRJ-gukK8GJq"
   },
   "source": [
    "#NETWORK INTRUSION DETECTION SYSTEM USING MACHINE LEARNING"
   ]
  },
  {
   "cell_type": "markdown",
   "metadata": {
    "id": "ereogFC3O9Hb"
   },
   "source": [
    "IMPORTING NECESSARY LIBARARIES"
   ]
  },
  {
   "cell_type": "code",
   "execution_count": null,
   "metadata": {
    "id": "bRspdBNc0AEQ"
   },
   "outputs": [],
   "source": [
    "import pandas as pd\n",
    "import numpy as np\n",
    "from sklearn.model_selection import train_test_split\n",
    "from sklearn.preprocessing import LabelEncoder, OneHotEncoder, StandardScaler\n",
    "from imblearn.over_sampling import ADASYN\n",
    "from sklearn.ensemble import RandomForestClassifier\n",
    "from xgboost import XGBClassifier\n",
    "from sklearn.metrics import classification_report, confusion_matrix\n",
    "import matplotlib.pyplot as plt\n",
    "import seaborn as sns"
   ]
  },
  {
   "cell_type": "markdown",
   "metadata": {
    "id": "eDEECscPPDiP"
   },
   "source": [
    "#DATA PREPROCESSING"
   ]
  },
  {
   "cell_type": "code",
   "execution_count": null,
   "metadata": {
    "id": "fBpL88Eq66nZ"
   },
   "outputs": [],
   "source": [
    "col_names = [\n",
    "    'duration', 'protocol_type', 'service', 'flag', 'src_bytes', 'dst_bytes',\n",
    "    'land', 'wrong_fragment', 'urgent', 'hot', 'num_failed_logins', 'logged_in',\n",
    "    'num_compromised', 'root_shell', 'su_attempted', 'num_root', 'num_file_creations',\n",
    "    'num_shells', 'num_access_files', 'num_outbound_cmds', 'is_host_login',\n",
    "    'is_guest_login', 'count', 'srv_count', 'serror_rate', 'srv_serror_rate',\n",
    "    'rerror_rate', 'srv_rerror_rate', 'same_srv_rate', 'diff_srv_rate',\n",
    "    'srv_diff_host_rate', 'dst_host_count', 'dst_host_srv_count',\n",
    "    'dst_host_same_srv_rate', 'dst_host_diff_srv_rate',\n",
    "    'dst_host_same_src_port_rate', 'dst_host_srv_diff_host_rate',\n",
    "    'dst_host_serror_rate', 'dst_host_srv_serror_rate', 'dst_host_rerror_rate',\n",
    "    'dst_host_srv_rerror_rate', 'label', 'difficulty_level'\n",
    "]"
   ]
  },
  {
   "cell_type": "markdown",
   "metadata": {
    "id": "2ek4kyWBPQXm"
   },
   "source": [
    "LOADING THE DATASET"
   ]
  },
  {
   "cell_type": "code",
   "execution_count": null,
   "metadata": {
    "id": "clf2unmK66td"
   },
   "outputs": [],
   "source": [
    "df = pd.read_csv(\"/content/KDDTrain+.txt\",names=col_names)\n",
    "df_test = pd.read_csv(\"/content/KDDTest+.txt\",names=col_names)"
   ]
  },
  {
   "cell_type": "markdown",
   "metadata": {
    "id": "5JmCgGrSPfat"
   },
   "source": [
    "EXPLORATORY DATA ANALYSIS"
   ]
  },
  {
   "cell_type": "code",
   "execution_count": null,
   "metadata": {
    "colab": {
     "base_uri": "https://localhost:8080/",
     "height": 255
    },
    "id": "Jk7ItK7D9zhy",
    "outputId": "03aaa6ec-102f-4993-aeb5-ce4b0ae50862"
   },
   "outputs": [],
   "source": [
    "df.head()"
   ]
  },
  {
   "cell_type": "code",
   "execution_count": null,
   "metadata": {
    "colab": {
     "base_uri": "https://localhost:8080/"
    },
    "id": "Mp5Enp-20Qx7",
    "outputId": "452d823b-fb7b-420e-ba49-e5acef7a8d2b"
   },
   "outputs": [],
   "source": [
    "print(f\"df has {df.shape[1]} columns\")"
   ]
  },
  {
   "cell_type": "code",
   "execution_count": null,
   "metadata": {
    "colab": {
     "base_uri": "https://localhost:8080/"
    },
    "id": "nGMvlLUz0Q0Z",
    "outputId": "84844271-fd1a-4875-e28d-1327fd799478"
   },
   "outputs": [],
   "source": [
    "print(f\"col_names has {len(col_names)} elements\")"
   ]
  },
  {
   "cell_type": "code",
   "execution_count": null,
   "metadata": {
    "colab": {
     "base_uri": "https://localhost:8080/"
    },
    "id": "B2g_Hzb40Q8j",
    "outputId": "3102af11-ff53-4ae5-f1d8-c20d918065c3"
   },
   "outputs": [],
   "source": [
    "print(df.shape)\n",
    "print(df.columns)"
   ]
  },
  {
   "cell_type": "code",
   "execution_count": null,
   "metadata": {
    "id": "QdWMHBzd0Qvb"
   },
   "outputs": [],
   "source": [
    "df.columns = col_names\n",
    "df_test.columns = col_names"
   ]
  },
  {
   "cell_type": "code",
   "execution_count": null,
   "metadata": {
    "id": "_rfhcW276wQq"
   },
   "outputs": [],
   "source": [
    "# Group labels into 5 categories\n",
    "label_map = {\n",
    "    'normal': 0,\n",
    "    'neptune': 1, 'back': 1, 'land': 1, 'pod': 1, 'smurf': 1, 'teardrop': 1, 'mailbomb': 1, 'apache2': 1, 'processtable': 1, 'udpstorm': 1, 'worm': 1,\n",
    "    'ipsweep': 2, 'nmap': 2, 'portsweep': 2, 'satan': 2, 'mscan': 2, 'saint': 2,\n",
    "    'ftp_write': 3, 'guess_passwd': 3, 'imap': 3, 'multihop': 3, 'phf': 3, 'spy': 3, 'warezclient': 3, 'warezmaster': 3, 'sendmail': 3, 'named': 3, 'snmpgetattack': 3,\n",
    "    'snmpguess': 3, 'xlock': 3, 'xsnoop': 3, 'httptunnel': 3,\n",
    "    'buffer_overflow': 4, 'loadmodule': 4, 'perl': 4, 'rootkit': 4, 'ps': 4, 'sqlattack': 4, 'xterm': 4\n",
    "}\n",
    "df['label'] = df['label'].map(label_map)\n",
    "df_test['label'] = df_test['label'].map(label_map)"
   ]
  },
  {
   "cell_type": "code",
   "execution_count": null,
   "metadata": {
    "colab": {
     "base_uri": "https://localhost:8080/",
     "height": 617
    },
    "id": "YdDfEpW88ZJw",
    "outputId": "af45bfb8-a44b-4fe2-da5c-bde1f001d90d"
   },
   "outputs": [],
   "source": [
    "# Analysing classes\n",
    "plt.figure(figsize=(10,5))\n",
    "sns.countplot(data=df, x='label', order=df['label'].value_counts().index, palette='Set2')\n",
    "plt.title(\"Class Distribution of Attack Types\")\n",
    "plt.xticks(rotation=45)\n",
    "plt.xlabel(\"Attack Type\")\n",
    "plt.ylabel(\"Number of Samples\")\n",
    "plt.tight_layout()\n",
    "plt.show()"
   ]
  },
  {
   "cell_type": "markdown",
   "metadata": {
    "id": "GjoPn9fKU1J_"
   },
   "source": [
    "The datset is highly imbalanced."
   ]
  },
  {
   "cell_type": "code",
   "execution_count": null,
   "metadata": {
    "colab": {
     "base_uri": "https://localhost:8080/"
    },
    "id": "-M81AQA27KDd",
    "outputId": "4d211c2f-5308-42c9-b3f1-90bb394116b7"
   },
   "outputs": [],
   "source": [
    "!pip install ydata-profiling"
   ]
  },
  {
   "cell_type": "code",
   "execution_count": null,
   "metadata": {
    "id": "e2Ha-uEw7KFj"
   },
   "outputs": [],
   "source": [
    "from ydata_profiling import ProfileReport"
   ]
  },
  {
   "cell_type": "code",
   "execution_count": null,
   "metadata": {
    "colab": {
     "base_uri": "https://localhost:8080/",
     "height": 396,
     "referenced_widgets": [
      "6f0784c372f449f9a5a10b8245b6fa95",
      "c778492832df499593afa30e7fbd27f8",
      "020cf96ca85543e784a067e8060d578a",
      "b4b76808bb6648b29d7febfd822f3f0e",
      "e5be511220824a129cddcc94cd41341d",
      "79dfa702997f4f7ea9758ac5532f41a5",
      "bb5e8d8259394a5197c7807b5515bca9",
      "70457f428d0447018eddce8197a0e635",
      "2d988ed52d3045f989aee1d9ad1dbb04",
      "adf599ab75674466b4555cc77dfe0811",
      "74380141cb2b43609515d058b720cccb",
      "6efe639dd2eb4346bdabddd16950b22b",
      "63c76fde9c5c4f5abf27e6b220b03628",
      "2fb6a5803a784f3dbf7a9bc057262afd",
      "5c7f6ed2971a4709946eafcc151ac189",
      "f174b77d346d4c15ba7df18662387581",
      "7f59ff6dc0b94783b40a088896cd7e5e",
      "4a7ace3615b540f980ef7382a0e1c2db",
      "bb458f84f8d045a492f38dca06aa0d49",
      "dcb190966f444d6a815e9ee202c8325a",
      "455d37b32eff40788d00990d284b7619",
      "88cdfca7a2b6422483e9a85454577483",
      "66fc2c43d5744f46808ea4b191b29853",
      "0513bc8d17934f21b35bab90579c9ec5",
      "839d38fc9b744976ba409641f21bb8bf",
      "52125198857b4ec2bf14360ea28a7f53",
      "f9c0dd723f2e4460b4115ae89316acec",
      "a3b984663ca8482dbe69c4a392333905",
      "3af580d411ab461690c1ef30d69d63db",
      "695a67708dcd4d7dab85cdbb344bf933",
      "1cb919e811e04a6393b633676ce7ef12",
      "070ab90ab7f44e4a8cf9f3fa4f98ca3b",
      "32a0f8130acc48ec89748a7187f2e740",
      "998151769dad45a587382ac5f7cddfbb",
      "0f6d111fa1c4416f962a5de194efdb41",
      "c3d4c224ff1f408fb42431dd61a1e513",
      "f9732993aa1645c19d01497fb6ca80f7",
      "22d109762cd24abeb8ad41c595f1566d",
      "f8d16ad8cc1c4f2aa90e225b4659c8c8",
      "dc264cc81a2c4d7cbd9601b9986b1268",
      "fd436ee90656436daf68de0793c29059",
      "200c7b676f0f49158fc9104f9a3a0dc6",
      "394194e69fdc48e79a8abe792cdcf08d",
      "01df9f4901d44fe9880c4ada2e7e7d9c"
     ]
    },
    "id": "Rk1jCAAW7KH7",
    "outputId": "78d4dbbf-3fd4-4dc3-8807-ac674dff8364"
   },
   "outputs": [],
   "source": [
    "prof = ProfileReport(df)\n",
    "prof.to_file(output_file='train_data.html')"
   ]
  },
  {
   "cell_type": "code",
   "execution_count": null,
   "metadata": {
    "colab": {
     "base_uri": "https://localhost:8080/",
     "height": 307,
     "referenced_widgets": [
      "5fda88ed37f94b49927d1e7b5729db8c",
      "35ccb2fd51e9471ca1cf78db983053ee",
      "a581244b01de4d9fa744bc8dc1711c71",
      "5e17ebaab4244ed38d0d22d57953ffd1",
      "9acfa650ce714aaba8187b6f8adc1dae",
      "8cc8a33aeb16422299622d6a57c586f1",
      "a392de3171fe449aa84d0d9703c0cfa8",
      "469cb5beb568417493dfe14cac67ed73",
      "84eb0911fed6445fb2f7f3d8266a16df",
      "40f77c079ea9495d96e428422be99a1b",
      "3c695fc029e84348a1994dd906811999",
      "b85a31bd354d4ef6aa8359db71788cf7",
      "5928e5a6ff7743ecb3cb1e0d4362891b",
      "ecb553f8b3994560a46bd6cf63ef1cd8",
      "00a8315ab1e24334926a8633c71cf268",
      "660dcd76f5154a4db3ed4ea243a39007",
      "96ee8a8c3ff748508b8793c4201ada18",
      "118ed0a1ed5d404bb77fcc30170e2d9f",
      "e703bd60229047bb963572c763db9460",
      "93022690225e4c3d98f8cd166fc04a3e",
      "a54a26bc0a19448abcd3979d3aaf506c",
      "bbf4df1dbcbb4b5aa5e7764d9846a94a",
      "31ec43df09c94db4bee0afd245053c9a",
      "0e5fd45224044fd89e205a0c9365dc96",
      "52fc7d1fab054f7da3e8fca58eb3a2d0",
      "b740ee9106eb458b915966a02f8e5f01",
      "6de86e7ce0844bad9f990c5535053634",
      "3ac96f4251a8475d8f9719409432dbaf",
      "7f2ee5ef36b443679bfed7a8281fba43",
      "2eb4f79637ac42fe81b36465a7f50dad",
      "3bcb1ab8d86444528adf7e8fa083db65",
      "a32a2adcf38e432097f471cead1455bb",
      "33bb1a24e86e4c53ade52630fa9ed82c",
      "072b3a8348cd4257870306b3fe7b146d",
      "6f27e692ac764c639e31702b9d0e9315",
      "5a0b1f1c07f547768c8bbdf520948cec",
      "df3bda28e294428aab320125bce4f17e",
      "05f9964ec6f3432ca17d540a09016c06",
      "b3432bfec9e44e858f9df343e0282dde",
      "7b99a5304e78479d8b36b1865d0b2590",
      "e602bfc5d43348f9939325bf4bfbc59f",
      "83717275a5d54566a5ce2e6447852bd6",
      "f6231d09d8b44ab8b5405cf5e9ba63e9",
      "f2b5dc488ab84298af20543c8fdcf660"
     ]
    },
    "id": "LuHONGOh7KJ7",
    "outputId": "ca32c341-60aa-4682-a202-4b9804587766"
   },
   "outputs": [],
   "source": [
    "prof = ProfileReport(df_test)\n",
    "prof.to_file(output_file='test_data.html')"
   ]
  },
  {
   "cell_type": "code",
   "execution_count": null,
   "metadata": {
    "colab": {
     "base_uri": "https://localhost:8080/"
    },
    "id": "W6QPTzbY7KL9",
    "outputId": "7bc166ad-b26f-4ecb-8301-8624886f8c9b"
   },
   "outputs": [],
   "source": [
    "df.info()"
   ]
  },
  {
   "cell_type": "code",
   "execution_count": null,
   "metadata": {
    "colab": {
     "base_uri": "https://localhost:8080/"
    },
    "id": "co_rqPCt7KPl",
    "outputId": "9d76e4be-8ea4-4602-aca8-f75186652748"
   },
   "outputs": [],
   "source": [
    "df_test.info()"
   ]
  },
  {
   "cell_type": "code",
   "execution_count": null,
   "metadata": {
    "colab": {
     "base_uri": "https://localhost:8080/",
     "height": 1431
    },
    "id": "f3Uuyw9U8ZAr",
    "outputId": "2af088ec-7ee5-4697-95cc-423c539edf94"
   },
   "outputs": [],
   "source": [
    "df.isnull().sum()"
   ]
  },
  {
   "cell_type": "markdown",
   "metadata": {
    "id": "YoQO4tsSUa4B"
   },
   "source": [
    "No missing values in training dataset."
   ]
  },
  {
   "cell_type": "code",
   "execution_count": null,
   "metadata": {
    "colab": {
     "base_uri": "https://localhost:8080/",
     "height": 1000
    },
    "id": "W-MmVgR68ZCr",
    "outputId": "4aaccd7d-af66-4619-e8d4-bfcaea1636e6"
   },
   "outputs": [],
   "source": [
    "df_test.isnull().sum()"
   ]
  },
  {
   "cell_type": "markdown",
   "metadata": {
    "id": "X_0f4DVGUgKQ"
   },
   "source": [
    "No missing values in testing dataset."
   ]
  },
  {
   "cell_type": "code",
   "execution_count": null,
   "metadata": {
    "colab": {
     "base_uri": "https://localhost:8080/",
     "height": 349
    },
    "id": "inHWtdLL8ZFG",
    "outputId": "a01ea5db-f101-4582-dcc7-d97404441da2"
   },
   "outputs": [],
   "source": [
    "df.describe()"
   ]
  },
  {
   "cell_type": "code",
   "execution_count": null,
   "metadata": {
    "colab": {
     "base_uri": "https://localhost:8080/",
     "height": 349
    },
    "id": "ufVb844r8ZHb",
    "outputId": "2d630a4a-f8b3-4d2c-88fd-831316cdc236"
   },
   "outputs": [],
   "source": [
    "df_test.describe()"
   ]
  },
  {
   "cell_type": "code",
   "execution_count": null,
   "metadata": {
    "colab": {
     "base_uri": "https://localhost:8080/"
    },
    "id": "VSC65XTx9U3a",
    "outputId": "a70ee3d9-b10c-40f0-c623-5db5ac47b7a5"
   },
   "outputs": [],
   "source": [
    "print(df['label'])"
   ]
  },
  {
   "cell_type": "markdown",
   "metadata": {
    "id": "3kqNEXOAP5LN"
   },
   "source": [
    "#FEATURE ENGINEERING"
   ]
  },
  {
   "cell_type": "code",
   "execution_count": null,
   "metadata": {
    "id": "QD1Banl3DEgo"
   },
   "outputs": [],
   "source": [
    "df['label'] = df['label'].replace({\n",
    "    'normal': 0,\n",
    "    # DoS (Denial of Service)\n",
    "    'back': 1, 'land': 1, 'neptune': 1, 'pod': 1, 'smurf': 1, 'teardrop': 1,\n",
    "    'mailbomb': 1, 'apache2': 1, 'processtable': 1, 'udpstorm': 1, 'worm': 1,\n",
    "    # Probe (Surveillance/Scanning)\n",
    "    'ipsweep': 2, 'nmap': 2, 'portsweep': 2, 'satan': 2, 'mscan': 2, 'saint': 2,\n",
    "    # R2L (Remote to Local)\n",
    "    'ftp_write': 3, 'guess_passwd': 3, 'imap': 3, 'multihop': 3, 'phf': 3,\n",
    "    'spy': 3, 'warezclient': 3, 'warezmaster': 3, 'sendmail': 3, 'named': 3,\n",
    "    'snmpgetattack': 3, 'snmpguess': 3, 'xlock': 3, 'xsnoop': 3, 'httptunnel': 3,\n",
    "    # U2R (User to Root)\n",
    "    'buffer_overflow': 4, 'loadmodule': 4, 'perl': 4, 'rootkit': 4,\n",
    "    'ps': 4, 'sqlattack': 4, 'xterm': 4\n",
    "})"
   ]
  },
  {
   "cell_type": "code",
   "execution_count": null,
   "metadata": {
    "colab": {
     "base_uri": "https://localhost:8080/",
     "height": 968
    },
    "id": "gNe_W7JbN7eA",
    "outputId": "200386e6-8694-4905-e746-739d7e531676"
   },
   "outputs": [],
   "source": [
    "numeric_df = df.select_dtypes(include=['int64', 'float64'])\n",
    "# Computing the correlation matrix\n",
    "corr_matrix = numeric_df.corr()\n",
    "plt.figure(figsize=(20, 17))\n",
    "sns.heatmap(corr_matrix, annot=True, fmt='.2f', cmap='coolwarm', square=True, cbar=True)\n",
    "plt.title('Feature Correlation Heatmap')\n",
    "plt.tight_layout()\n",
    "plt.show()"
   ]
  },
  {
   "cell_type": "markdown",
   "metadata": {
    "id": "gLJSb34MVNCU"
   },
   "source": [
    "correlation heatmap helps us understand the relationships betwwen the features. It helps us to idenify patterns in the dataset."
   ]
  },
  {
   "cell_type": "code",
   "execution_count": null,
   "metadata": {
    "id": "8KqvDy_i8ZL2"
   },
   "outputs": [],
   "source": [
    "# One-hot encode categorical features\n",
    "cat_cols = ['protocol_type', 'service', 'flag']\n",
    "encoder = OneHotEncoder(sparse_output=False, handle_unknown='ignore')"
   ]
  },
  {
   "cell_type": "code",
   "execution_count": null,
   "metadata": {
    "id": "TyVWAqGP117p"
   },
   "outputs": [],
   "source": [
    "df_cat = pd.DataFrame(encoder.fit_transform(df[cat_cols]))\n",
    "df_cat.columns = encoder.get_feature_names_out(cat_cols)"
   ]
  },
  {
   "cell_type": "code",
   "execution_count": null,
   "metadata": {
    "id": "33qBAYgS1190"
   },
   "outputs": [],
   "source": [
    "df_test_cat = pd.DataFrame(encoder.transform(df_test[cat_cols]))\n",
    "df_test_cat.columns = encoder.get_feature_names_out(cat_cols)"
   ]
  },
  {
   "cell_type": "code",
   "execution_count": null,
   "metadata": {
    "id": "xu_h8s5T12AX"
   },
   "outputs": [],
   "source": [
    "# Align test set columns with training\n",
    "df_cat, df_test_cat = df_cat.align(df_test_cat, join='outer', axis=1, fill_value=0)"
   ]
  },
  {
   "cell_type": "code",
   "execution_count": null,
   "metadata": {
    "id": "IjXwTq0T12C7"
   },
   "outputs": [],
   "source": [
    "# Drop original categorical columns and merge encoded ones\n",
    "df_final = df.drop(columns=cat_cols).reset_index(drop=True)\n",
    "df_test_final = df_test.drop(columns=cat_cols).reset_index(drop=True)"
   ]
  },
  {
   "cell_type": "code",
   "execution_count": null,
   "metadata": {
    "id": "qgAIemNi12Fb"
   },
   "outputs": [],
   "source": [
    "df_final = pd.concat([df_final, df_cat], axis=1)\n",
    "df_test_final = pd.concat([df_test_final, df_test_cat], axis=1)"
   ]
  },
  {
   "cell_type": "code",
   "execution_count": null,
   "metadata": {
    "id": "AC5gsex712H5"
   },
   "outputs": [],
   "source": [
    "# Separate features and target\n",
    "X = df_final.drop(columns=['label'])\n",
    "y = df_final['label']"
   ]
  },
  {
   "cell_type": "code",
   "execution_count": null,
   "metadata": {
    "id": "EW3fkZ-j12K5"
   },
   "outputs": [],
   "source": [
    "X_test = df_test_final.drop(columns=['label'])\n",
    "y_test = df_test_final['label']"
   ]
  },
  {
   "cell_type": "code",
   "execution_count": null,
   "metadata": {
    "id": "x4Ulmw4u12N0"
   },
   "outputs": [],
   "source": [
    "# Converting int64 to float64 for scaling and compatibility\n",
    "X = X.astype(np.float64)\n",
    "X_test = X_test.astype(np.float64)"
   ]
  },
  {
   "cell_type": "markdown",
   "metadata": {
    "id": "WlhMvP3EQRiL"
   },
   "source": [
    " HANDLING IMBALANCED DATASET"
   ]
  },
  {
   "cell_type": "code",
   "execution_count": null,
   "metadata": {
    "id": "8GXeSgNMjdJ0"
   },
   "outputs": [],
   "source": [
    "# Applying ADASYN to balance classes\n",
    "adasyn = ADASYN()\n",
    "X_res, y_res = adasyn.fit_resample(X, y)"
   ]
  },
  {
   "cell_type": "code",
   "execution_count": null,
   "metadata": {
    "id": "UGVmpTo3jQgy"
   },
   "outputs": [],
   "source": [
    "# Feature scaling\n",
    "scaler = StandardScaler()\n",
    "X_res_scaled = scaler.fit_transform(X_res)\n",
    "X_test_scaled = scaler.fit_transform(X_test)"
   ]
  },
  {
   "cell_type": "code",
   "execution_count": null,
   "metadata": {
    "id": "qoK5QemSmHg3"
   },
   "outputs": [],
   "source": [
    "from sklearn.preprocessing import OneHotEncoder\n",
    "encoder = OneHotEncoder(sparse_output=False, handle_unknown='ignore')\n",
    "X_encoded = encoder.fit_transform(df[cat_cols])\n",
    "encoded_feature_names = encoder.get_feature_names_out(cat_cols)"
   ]
  },
  {
   "cell_type": "code",
   "execution_count": null,
   "metadata": {
    "id": "2YXu9vsYmHjN"
   },
   "outputs": [],
   "source": [
    "import numpy as np\n",
    "numeric_data = df.drop(columns=cat_cols + ['label'])\n",
    "numeric_feature_names = numeric_data.columns\n",
    "all_feature_names = list(encoded_feature_names) + list(numeric_feature_names)\n",
    "X_df = pd.DataFrame(X_res_scaled, columns=all_feature_names)"
   ]
  },
  {
   "cell_type": "code",
   "execution_count": null,
   "metadata": {
    "colab": {
     "base_uri": "https://localhost:8080/",
     "height": 255
    },
    "id": "BAyEd6enmHmo",
    "outputId": "9e5d9e0a-8995-4549-ebc6-5cd2547e5767"
   },
   "outputs": [],
   "source": [
    "X_df.head()"
   ]
  },
  {
   "cell_type": "markdown",
   "metadata": {
    "id": "Kx05sIpc6vE_"
   },
   "source": [
    "Discretization"
   ]
  },
  {
   "cell_type": "code",
   "execution_count": null,
   "metadata": {
    "colab": {
     "base_uri": "https://localhost:8080/"
    },
    "id": "i4AZyFJlncgJ",
    "outputId": "27818e68-16be-4e26-b65c-5f810004c303"
   },
   "outputs": [],
   "source": [
    "from sklearn.preprocessing import KBinsDiscretizer\n",
    "numeric_cols = X.select_dtypes(include=['int64', 'float64']).columns\n",
    "discretizer = KBinsDiscretizer(n_bins=5, encode='ordinal', strategy='uniform')\n",
    "X_discretized = X.copy()\n",
    "X_discretized[numeric_cols] = discretizer.fit_transform(X[numeric_cols])"
   ]
  },
  {
   "cell_type": "markdown",
   "metadata": {
    "id": "DGfWYUhb6zQ7"
   },
   "source": [
    "Feature selection"
   ]
  },
  {
   "cell_type": "code",
   "execution_count": null,
   "metadata": {
    "colab": {
     "base_uri": "https://localhost:8080/"
    },
    "id": "n7D1N4s1niQy",
    "outputId": "fba764c2-2797-4837-9a3c-04777eb02487"
   },
   "outputs": [],
   "source": [
    "from sklearn.feature_selection import SelectKBest, mutual_info_classif\n",
    "selector = SelectKBest(score_func=mutual_info_classif, k=13)\n",
    "X_selected = selector.fit_transform(X_discretized, y)\n",
    "selected_feature_indices = selector.get_support(indices=True)\n",
    "selected_feature_names = X.columns[selected_feature_indices]\n",
    "print(\"Selected Features:\", selected_feature_names.tolist())"
   ]
  },
  {
   "cell_type": "markdown",
   "metadata": {
    "id": "HSFculWa63hH"
   },
   "source": [
    "Handling Class imbalance Using Adasyn"
   ]
  },
  {
   "cell_type": "code",
   "execution_count": null,
   "metadata": {
    "id": "YFzerwxc3fUi"
   },
   "outputs": [],
   "source": [
    "# Applying ADASYN to balance classes\n",
    "adasyn = ADASYN()\n",
    "X_ress, y_ress = adasyn.fit_resample(X_selected, y)"
   ]
  },
  {
   "cell_type": "markdown",
   "metadata": {
    "id": "PLbzXsqmREzI"
   },
   "source": [
    "#TRAINING AND EVALUATION OF MODELS"
   ]
  },
  {
   "cell_type": "code",
   "execution_count": null,
   "metadata": {
    "id": "wbhXaHUtnjDY"
   },
   "outputs": [],
   "source": [
    "from sklearn.model_selection import train_test_split\n",
    "from sklearn.metrics import accuracy_score\n",
    "from sklearn.ensemble import RandomForestClassifier\n",
    "from sklearn.naive_bayes import GaussianNB\n",
    "from sklearn.tree import DecisionTreeClassifier\n",
    "from sklearn.neighbors import KNeighborsClassifier\n",
    "from xgboost import XGBClassifier\n",
    "models = {\n",
    "    \"Random Forest\": RandomForestClassifier(),\n",
    "    \"Naive Bayes\": GaussianNB(),\n",
    "    \"Decision Tree\": DecisionTreeClassifier(),\n",
    "    \"KNN\": KNeighborsClassifier(),\n",
    "    \"XGBoost\": XGBClassifier(use_label_encoder=False, eval_metric='mlogloss')\n",
    " }\n",
    "X_train, X_test, y_train, y_test = train_test_split(X_ress, y_ress, test_size=0.2, random_state=42)"
   ]
  },
  {
   "cell_type": "code",
   "execution_count": null,
   "metadata": {
    "colab": {
     "base_uri": "https://localhost:8080/"
    },
    "id": "Qr5pdVyKLI9_",
    "outputId": "135ed57a-3385-451e-d571-16abd7f05ba6"
   },
   "outputs": [],
   "source": [
    "y_preds = {}\n",
    "for name, model in models.items():\n",
    "    model.fit(X_train, y_train)\n",
    "    y_pred = model.predict(X_test)\n",
    "    y_preds[name] = y_pred\n",
    "    print(f\"{name} Accuracy: {accuracy_score(y_test, y_pred):.4f}\")"
   ]
  },
  {
   "cell_type": "code",
   "execution_count": null,
   "metadata": {
    "colab": {
     "base_uri": "https://localhost:8080/"
    },
    "id": "DSBX0X30-Q6Q",
    "outputId": "87e82008-a7c9-408c-bd55-096ff71c47d5"
   },
   "outputs": [],
   "source": [
    "import joblib\n",
    "# Save your model after training\n",
    "joblib.dump(model, 'model.pkl')\n",
    "joblib.dump(scaler, 'scaler.pkl')"
   ]
  },
  {
   "cell_type": "markdown",
   "metadata": {
    "id": "yh2-Dvnq6H5R"
   },
   "source": [
    "RANDOM FOREST"
   ]
  },
  {
   "cell_type": "code",
   "execution_count": null,
   "metadata": {
    "colab": {
     "base_uri": "https://localhost:8080/"
    },
    "id": "0ao_5iZUyZn7",
    "outputId": "b6949c9f-3bda-4c97-a7f9-0a44a5dd09e7"
   },
   "outputs": [],
   "source": [
    "from sklearn.metrics import classification_report\n",
    "print(\"Random Forest Classification Report:\")\n",
    "print(classification_report(y_test, y_preds[\"Random Forest\"]))"
   ]
  },
  {
   "cell_type": "code",
   "execution_count": null,
   "metadata": {
    "colab": {
     "base_uri": "https://localhost:8080/",
     "height": 467
    },
    "id": "aAoJfMM8yZrb",
    "outputId": "7094ee33-db0a-414a-eab0-e8dd3596636a"
   },
   "outputs": [],
   "source": [
    "from sklearn.metrics import ConfusionMatrixDisplay\n",
    "ConfusionMatrixDisplay.from_predictions(y_test, y_preds[\"Random Forest\"], cmap=\"Blues\")"
   ]
  },
  {
   "cell_type": "markdown",
   "metadata": {
    "id": "cVpnIhVTlN1a"
   },
   "source": [
    "KNN"
   ]
  },
  {
   "cell_type": "code",
   "execution_count": null,
   "metadata": {
    "colab": {
     "base_uri": "https://localhost:8080/"
    },
    "id": "aGlTZKoZlMbe",
    "outputId": "bb2c7c94-c95e-4ceb-e489-982a51ac3fca"
   },
   "outputs": [],
   "source": [
    "print(\"KNN Classification Report:\")\n",
    "print(classification_report(y_test, y_preds[\"KNN\"]))"
   ]
  },
  {
   "cell_type": "code",
   "execution_count": null,
   "metadata": {
    "colab": {
     "base_uri": "https://localhost:8080/",
     "height": 467
    },
    "id": "w0YZkweYlPwV",
    "outputId": "ac6bdea9-ea95-4669-b5a4-9f3e7956ca93"
   },
   "outputs": [],
   "source": [
    "ConfusionMatrixDisplay.from_predictions(y_test, y_preds[\"KNN\"], cmap=\"Blues\")"
   ]
  },
  {
   "cell_type": "markdown",
   "metadata": {
    "id": "LtcJl1Oj6MTl"
   },
   "source": [
    "NAIVE BAYES"
   ]
  },
  {
   "cell_type": "code",
   "execution_count": null,
   "metadata": {
    "colab": {
     "base_uri": "https://localhost:8080/"
    },
    "id": "bCEzrcJezJQy",
    "outputId": "d84a303f-bb46-452a-f85f-45c6a0ca8b3a"
   },
   "outputs": [],
   "source": [
    "print(\"Naive Bayes Classification Report:\")\n",
    "print(classification_report(y_test, y_preds[\"Naive Bayes\"]))"
   ]
  },
  {
   "cell_type": "code",
   "execution_count": null,
   "metadata": {
    "colab": {
     "base_uri": "https://localhost:8080/",
     "height": 467
    },
    "id": "DQ8IfaRvzJTS",
    "outputId": "2ad3187e-8b07-46f6-c422-21db3d86a69a"
   },
   "outputs": [],
   "source": [
    "ConfusionMatrixDisplay.from_predictions(y_test, y_preds[\"Naive Bayes\"], cmap=\"Blues\")"
   ]
  },
  {
   "cell_type": "markdown",
   "metadata": {
    "id": "PyEKWb1j6P72"
   },
   "source": [
    "DECISION TREE"
   ]
  },
  {
   "cell_type": "code",
   "execution_count": null,
   "metadata": {
    "colab": {
     "base_uri": "https://localhost:8080/"
    },
    "id": "7Li--jrBzJVa",
    "outputId": "7c713ae5-a1c0-422c-a021-cda45ce91d66"
   },
   "outputs": [],
   "source": [
    "print(\"Decision Tree Classification Report:\")\n",
    "print(classification_report(y_test, y_preds[\"Decision Tree\"]))"
   ]
  },
  {
   "cell_type": "code",
   "execution_count": null,
   "metadata": {
    "colab": {
     "base_uri": "https://localhost:8080/",
     "height": 467
    },
    "id": "-DBK7o7i5tWR",
    "outputId": "2583c675-44ad-43a6-f351-aef710590b0c"
   },
   "outputs": [],
   "source": [
    "ConfusionMatrixDisplay.from_predictions(y_test, y_preds[\"Decision Tree\"], cmap=\"Blues\")"
   ]
  },
  {
   "cell_type": "markdown",
   "metadata": {
    "id": "AqOHD8zJ6U3V"
   },
   "source": [
    "XGBOOST"
   ]
  },
  {
   "cell_type": "code",
   "execution_count": null,
   "metadata": {
    "colab": {
     "base_uri": "https://localhost:8080/"
    },
    "id": "H9N5vOiOzJXy",
    "outputId": "2e6ed769-eade-4ce8-e264-3b937cc18e87"
   },
   "outputs": [],
   "source": [
    "print(\"XGBoost Classification Report:\")\n",
    "print(classification_report(y_test, y_pred))"
   ]
  },
  {
   "cell_type": "code",
   "execution_count": null,
   "metadata": {
    "colab": {
     "base_uri": "https://localhost:8080/",
     "height": 467
    },
    "id": "DZouxW3UzJbK",
    "outputId": "78a03d24-380c-4602-a838-46ffbb76a468"
   },
   "outputs": [],
   "source": [
    "from sklearn.metrics import ConfusionMatrixDisplay\n",
    "ConfusionMatrixDisplay.from_predictions(y_test, y_pred, cmap=\"Blues\")"
   ]
  },
  {
   "cell_type": "code",
   "execution_count": null,
   "metadata": {
    "id": "QyvRfzG3-kRu"
   },
   "outputs": [],
   "source": [
    "from sklearn.metrics import accuracy_score\n",
    "accuracies = {}\n",
    "for name, y_pred in y_preds.items():\n",
    "    acc = accuracy_score(y_test, y_pred)\n",
    "    accuracies[name] = acc"
   ]
  },
  {
   "cell_type": "code",
   "execution_count": null,
   "metadata": {
    "colab": {
     "base_uri": "https://localhost:8080/",
     "height": 607
    },
    "id": "zRdS3QQ4_D9M",
    "outputId": "f20fe404-d0ad-4723-c987-554324762a93"
   },
   "outputs": [],
   "source": [
    "import matplotlib.pyplot as plt\n",
    "plt.figure(figsize=(10, 6))\n",
    "plt.bar(accuracies.keys(), accuracies.values(), color='skyblue')\n",
    "plt.title('Model Accuracy Comparison')\n",
    "plt.ylabel('Accuracy')\n",
    "plt.ylim(0, 1.0)\n",
    "plt.xticks(rotation=45)\n",
    "plt.grid(axis='y')\n",
    "for i, (name, acc) in enumerate(accuracies.items()):\n",
    "    plt.text(i, acc + 0.01, f\"{acc:.2f}\", ha='center', fontweight='bold')\n",
    "plt.tight_layout()\n",
    "plt.show()"
   ]
  },
  {
   "cell_type": "markdown",
   "metadata": {
    "id": "iW7zF-pJPh4W"
   },
   "source": [
    "BEST MODEL: XGBOOST"
   ]
  }
 ],
 "metadata": {
  "colab": {
   "provenance": []
  },
  "kernelspec": {
   "display_name": "Python 3",
   "name": "python3"
  },
  "language_info": {
   "name": "python"
  }
 },
 "nbformat": 4,
 "nbformat_minor": 0
}
